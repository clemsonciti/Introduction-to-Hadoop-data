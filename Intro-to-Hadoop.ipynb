{
 "cells": [
  {
   "cell_type": "code",
   "execution_count": 14,
   "metadata": {
    "collapsed": false
   },
   "outputs": [
    {
     "name": "stdout",
     "output_type": "stream",
     "text": [
      "[0, 1, 4, 9, 16]\n"
     ]
    }
   ],
   "source": [
    "input_data = [0,1,2,3,4]\n",
    "\n",
    "def squared (x):\n",
    "    return x * x\n",
    "\n",
    "map_output_1 = list(map(squared, input_data))\n",
    "print (map_output_1)"
   ]
  },
  {
   "cell_type": "code",
   "execution_count": 15,
   "metadata": {
    "collapsed": false
   },
   "outputs": [
    {
     "name": "stdout",
     "output_type": "stream",
     "text": [
      "[None, None, None, 9, 16]\n"
     ]
    }
   ],
   "source": [
    "input_data = [0,1,2,3,4]\n",
    "\n",
    "def squared (x):\n",
    "    tmp = x * x\n",
    "    if tmp > 4:\n",
    "        return x * x\n",
    "\n",
    "map_output_2 = list(map(squared, input_data))\n",
    "print (map_output_2)"
   ]
  },
  {
   "cell_type": "code",
   "execution_count": 16,
   "metadata": {
    "collapsed": false
   },
   "outputs": [
    {
     "name": "stdout",
     "output_type": "stream",
     "text": [
      "[['Ask', 'not', 'what', 'your', 'data', 'can', 'do', 'for', 'you'], ['ask', 'what', 'you', 'can', 'do', 'for', 'your', 'data']]\n"
     ]
    }
   ],
   "source": [
    "input_data = [\"Ask not what your data can do for you\", \"ask what you can do for your data\"]\n",
    "\n",
    "def parse_words (x):\n",
    "    return x.split()\n",
    "\n",
    "map_output_3 = list(map(parse_words, input_data))\n",
    "print (map_output_3)"
   ]
  },
  {
   "cell_type": "code",
   "execution_count": 19,
   "metadata": {
    "collapsed": false
   },
   "outputs": [
    {
     "name": "stdout",
     "output_type": "stream",
     "text": [
      "30\n"
     ]
    }
   ],
   "source": [
    "import functools\n",
    "def sum(tmp, x):\n",
    "    return tmp + x\n",
    "\n",
    "reduce_output_1 = functools.reduce(sum, map_output_1)\n",
    "print (reduce_output_1)"
   ]
  },
  {
   "cell_type": "code",
   "execution_count": 21,
   "metadata": {
    "collapsed": false
   },
   "outputs": [
    {
     "name": "stdout",
     "output_type": "stream",
     "text": [
      "30\n"
     ]
    }
   ],
   "source": [
    "def sum_reduce(x):\n",
    "    sum = 0\n",
    "    for data_element in x:\n",
    "        sum = sum + data_element\n",
    "    return sum\n",
    "\n",
    "reduce_output_2 = sum_reduce(map_output_1)\n",
    "print(reduce_output_2)"
   ]
  },
  {
   "cell_type": "code",
   "execution_count": null,
   "metadata": {
    "collapsed": true
   },
   "outputs": [],
   "source": []
  }
 ],
 "metadata": {
  "kernelspec": {
   "display_name": "Python 3",
   "language": "python",
   "name": "python3"
  },
  "language_info": {
   "codemirror_mode": {
    "name": "ipython",
    "version": 3
   },
   "file_extension": ".py",
   "mimetype": "text/x-python",
   "name": "python",
   "nbconvert_exporter": "python",
   "pygments_lexer": "ipython3",
   "version": "3.5.1"
  }
 },
 "nbformat": 4,
 "nbformat_minor": 0
}
